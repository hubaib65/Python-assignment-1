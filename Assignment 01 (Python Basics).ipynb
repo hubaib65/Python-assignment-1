{
 "cells": [
  {
   "cell_type": "markdown",
   "metadata": {},
   "source": [
    "# Part -1 Python Basics (Variables)"
   ]
  },
  {
   "cell_type": "markdown",
   "metadata": {},
   "source": [
    "1. Print Your Name with your Father name and Date of birth using suitable escape sequence charactor"
   ]
  },
  {
   "cell_type": "code",
   "execution_count": 6,
   "metadata": {},
   "outputs": [
    {
     "name": "stdout",
     "output_type": "stream",
     "text": [
      "My name is Hubaib, son of Shoaib, born on \\18/05/2000\n"
     ]
    }
   ],
   "source": [
    "# Write your code here\n",
    "print(\"My name is Hubaib, son of Shoaib, born on \\\\18/05/2000\")\n"
   ]
  },
  {
   "cell_type": "markdown",
   "metadata": {},
   "source": [
    "2. Write your small bio using variables and print it using print function"
   ]
  },
  {
   "cell_type": "code",
   "execution_count": 8,
   "metadata": {},
   "outputs": [
    {
     "name": "stdout",
     "output_type": "stream",
     "text": [
      "My name is Hubaib Shoaib, born on may 18, 2000, working as a purchasing/sales manager, My reason for learning Python is Enter into the digital world and educate myself with the future techonologies and learn skills like Ai , metaverse and web3.0  .\n"
     ]
    }
   ],
   "source": [
    "# Write your code here\n",
    "name = \"Hubaib Shoaib\"\n",
    "born = \"may 18, 2000\"\n",
    "occupation = \"purchasing/sales manager\"\n",
    "goal = \"Enter into the digital world and educate myself with the future techonologies and learn skills like Ai , metaverse and web3.0 \" \n",
    "\n",
    "bio = f\"My name is {name}, born on {born}, working as a {occupation}, My reason for learning Python is {goal} .\"\n",
    "\n",
    "print(bio)\n",
    "\n",
    "\n"
   ]
  },
  {
   "cell_type": "markdown",
   "metadata": {},
   "source": [
    "3. Write a program in which use all the operators we can use in Python"
   ]
  },
  {
   "cell_type": "code",
   "execution_count": 22,
   "metadata": {},
   "outputs": [
    {
     "name": "stdout",
     "output_type": "stream",
     "text": [
      "Addition: 46\n",
      "Subtraction: 30\n",
      "Multiplication: 304\n",
      "Division: 4.75\n",
      "Modulus: 6\n",
      "Exponentiation: 4347792138496\n",
      "Equal: False\n",
      "Not Equal: True\n",
      "Greater Than: True\n",
      "Less Than: False\n",
      "Greater Than or Equal: True\n",
      "Less Than or Equal: False\n",
      "Addition Assignment: 45\n",
      "Subtraction Assignment: 43\n",
      "Multiplication Assignment: 86\n",
      "Division Assignment: 43.0\n",
      "Modulus Assignment: 1.0\n",
      "Exponentiation Assignment: 1.0\n",
      "And: False\n",
      "Or: True\n",
      "Not: False\n"
     ]
    }
   ],
   "source": [
    "# Write your code here\n",
    "\n",
    "a = 38\n",
    "b = 8\n",
    "c = 43\n",
    "x = True\n",
    "y = False\n",
    "\n",
    "# Arithmetic operators\n",
    "\n",
    "print(\"Addition:\", a + b)         # Output: 46\n",
    "print(\"Subtraction:\", a - b)      # Output: 30\n",
    "print(\"Multiplication:\", a * b)   # Output: 304\n",
    "print(\"Division:\", a / b)         # Output: 4.75\n",
    "print(\"Modulus:\", a % b)          # Output: 6\n",
    "print(\"Exponentiation:\", a ** b)  # Output: 4347792138496\n",
    "\n",
    "# Comparison operators\n",
    "\n",
    "print(\"Equal:\", a == b)           # Output: False\n",
    "print(\"Not Equal:\", a != b)       # Output: True\n",
    "print(\"Greater Than:\", a > b)     # Output: True\n",
    "print(\"Less Than:\", a < b)        # Output: False\n",
    "print(\"Greater Than or Equal:\", a >= b)  # Output: True\n",
    "print(\"Less Than or Equal:\", a <= b)   # Output: False\n",
    "\n",
    "# Assignment operators\n",
    "\n",
    "c += 2  # equivalent to c = c + 2\n",
    "print(\"Addition Assignment:\", c)  # Output: 45\n",
    "c -= 2  # equivalent to c = c - 2\n",
    "print(\"Subtraction Assignment:\", c)  # Output: 43\n",
    "c *= 2  # equivalent to c = c * 2\n",
    "print(\"Multiplication Assignment:\", c)  # Output: 86\n",
    "c /= 2  # equivalent to c = c / 2\n",
    "print(\"Division Assignment:\", c)  # Output: 43.0\n",
    "c %= 2  # equivalent to c = c % 2\n",
    "print(\"Modulus Assignment:\", c)  # Output: 1.0\n",
    "c **= 2  # equivalent to c = c ** 2\n",
    "print(\"Exponentiation Assignment:\", c)  # Output: 1.0\n",
    "\n",
    "# Logical operators\n",
    "\n",
    "print(\"And:\", x and y)            # Output: False\n",
    "print(\"Or:\", x or y)              # Output: True\n",
    "print(\"Not:\", not x)              # Output: False\n",
    "\n",
    "\n"
   ]
  },
  {
   "cell_type": "markdown",
   "metadata": {},
   "source": [
    "4. Completes the following steps of small task:\n",
    "    - Mention Marks of English , Islamiat and Maths out of 100 in 3 different variables\n",
    "    - Mention Variable of Total Marks and assign 300 to it\n",
    "    - Calculate Percentage"
   ]
  },
  {
   "cell_type": "code",
   "execution_count": 24,
   "metadata": {},
   "outputs": [
    {
     "name": "stdout",
     "output_type": "stream",
     "text": [
      "Total Marks Obtained: 245\n",
      "Percentage: 81.66666666666667\n"
     ]
    }
   ],
   "source": [
    "# Write your code here\n",
    "# Marks in each subject out of 100\n",
    "english_marks = 80\n",
    "islamiat_marks = 75\n",
    "maths_marks = 90\n",
    "\n",
    "# Total marks\n",
    "total_marks = 300\n",
    "\n",
    "# Calculate total marks obtained\n",
    "total_marks_obtained = english_marks + islamiat_marks + maths_marks\n",
    "\n",
    "# Calculate percentage\n",
    "percentage = (total_marks_obtained / total_marks) * 100\n",
    "\n",
    "print(\"Total Marks Obtained:\", total_marks_obtained)\n",
    "print(\"Percentage:\", percentage)\n",
    "\n"
   ]
  },
  {
   "cell_type": "markdown",
   "metadata": {},
   "source": [
    "# Part -2 Python Basics (Conditional Statements)"
   ]
  },
  {
   "cell_type": "markdown",
   "metadata": {},
   "source": [
    "1) A company decided to give bonus of 5% to employee if his/her year of service is more than 5 years.\n",
    "Ask user for their salary and year of service and print the net bonus amount."
   ]
  },
  {
   "cell_type": "code",
   "execution_count": 26,
   "metadata": {},
   "outputs": [
    {
     "name": "stdin",
     "output_type": "stream",
     "text": [
      "Enter your salary:  20000\n",
      "Enter your years of service:  8\n"
     ]
    },
    {
     "name": "stdout",
     "output_type": "stream",
     "text": [
      "Net Bonus Amount:  1000.0\n"
     ]
    }
   ],
   "source": [
    "#Type your code here\n",
    "# Ask user for their salary and year of service\n",
    "salary = float(input(\"Enter your salary: \"))\n",
    "years_of_service = int(input(\"Enter your years of service: \"))\n",
    "\n",
    "# Check if the employee is eligible for a bonus\n",
    "if years_of_service > 5:\n",
    "  # Calculate the bonus amount (5% of salary)\n",
    "  bonus_amount = salary * 0.05\n",
    "  print(\"Net Bonus Amount: \", bonus_amount)\n",
    "else:\n",
    "  print(\"You are not eligible for a bonus.\")\n",
    "\n"
   ]
  },
  {
   "cell_type": "markdown",
   "metadata": {},
   "source": [
    "\n",
    "2) Write a program to check whether a person is eligible for voting or not. (accept age from user) if age is greater than 17 eligible otherwise not eligible"
   ]
  },
  {
   "cell_type": "code",
   "execution_count": 28,
   "metadata": {},
   "outputs": [
    {
     "name": "stdin",
     "output_type": "stream",
     "text": [
      "Enter your age:  24\n"
     ]
    },
    {
     "name": "stdout",
     "output_type": "stream",
     "text": [
      "You are eligible for voting.\n"
     ]
    }
   ],
   "source": [
    "#Type your code here\n",
    "# Ask user for their age\n",
    "age = int(input(\"Enter your age: \"))\n",
    "\n",
    "# Check if the person is eligible for voting\n",
    "if age >= 18:\n",
    "  print(\"You are eligible for voting.\")\n",
    "else:\n",
    "  print(\"You are not eligible for voting.\")\n",
    "\n"
   ]
  },
  {
   "cell_type": "markdown",
   "metadata": {},
   "source": [
    "\n",
    "3) Write a program to check whether a number entered by user is even or odd."
   ]
  },
  {
   "cell_type": "code",
   "execution_count": 30,
   "metadata": {},
   "outputs": [
    {
     "name": "stdin",
     "output_type": "stream",
     "text": [
      "Enter a number:  38641044\n"
     ]
    },
    {
     "name": "stdout",
     "output_type": "stream",
     "text": [
      "The number is even.\n"
     ]
    }
   ],
   "source": [
    "#Type your code here\n",
    "# Ask user for a number\n",
    "num = int(input(\"Enter a number: \"))\n",
    "\n",
    "# Check if the number is even or odd\n",
    "if num % 2 == 0:\n",
    "  print(\"The number is even.\")\n",
    "else:\n",
    "  print(\"The number is odd.\")"
   ]
  },
  {
   "cell_type": "markdown",
   "metadata": {},
   "source": [
    "4) Write a program to check whether a number is divisible by 7 or not.\n",
    "Show Answer"
   ]
  },
  {
   "cell_type": "code",
   "execution_count": 48,
   "metadata": {},
   "outputs": [
    {
     "name": "stdin",
     "output_type": "stream",
     "text": [
      "enter your number : 49\n"
     ]
    },
    {
     "name": "stdout",
     "output_type": "stream",
     "text": [
      "your number is divisible by 7 \n",
      "your answer is 7.0\n"
     ]
    }
   ],
   "source": [
    "#Type your code here\n",
    "num = int(input(\"enter your number :\"))\n",
    "\n",
    "# check whether a number is divisible by 7 or not.\n",
    "if num % 7 == 0:\n",
    "         print(\"your number is divisible by 7 \")\n",
    "         print(\"your answer is\", num / 7)\n",
    "else:\n",
    "    print(\"this number can not divisible by 7\")"
   ]
  },
  {
   "cell_type": "markdown",
   "metadata": {},
   "source": [
    "5) Write a program to display \n",
    "\"Hello\" if a number entered by user is a multiple of five , otherwise print \"Bye\"."
   ]
  },
  {
   "cell_type": "code",
   "execution_count": 50,
   "metadata": {},
   "outputs": [
    {
     "name": "stdin",
     "output_type": "stream",
     "text": [
      "Enter a number:  555555575\n"
     ]
    },
    {
     "name": "stdout",
     "output_type": "stream",
     "text": [
      "Hello\n"
     ]
    }
   ],
   "source": [
    "#Type your code here\n",
    "# Ask user for a number\n",
    "num = int(input(\"Enter a number: \"))\n",
    "\n",
    "# Check if the number is a multiple of 5\n",
    "if num % 5 == 0:\n",
    "  print(\"Hello\")\n",
    "else:\n",
    "  print(\"Bye\")\n",
    "\n"
   ]
  },
  {
   "cell_type": "markdown",
   "metadata": {},
   "source": [
    "7) Write a program to display the last digit of a number.\n"
   ]
  },
  {
   "cell_type": "code",
   "execution_count": 64,
   "metadata": {},
   "outputs": [
    {
     "name": "stdin",
     "output_type": "stream",
     "text": [
      "Enter a number:  4565\n"
     ]
    },
    {
     "name": "stdout",
     "output_type": "stream",
     "text": [
      "The last digit of the number is: 5\n"
     ]
    }
   ],
   "source": [
    "#Type your code here\n",
    "# Ask user for a number\n",
    "num = int(input(\"Enter a number: \"))\n",
    "\n",
    "# Get the last digit of the number\n",
    "last_digit = num % 10\n",
    "\n",
    "# Print the last digit\n",
    "print(\"The last digit of the number is:\", last_digit)\n",
    "\n"
   ]
  },
  {
   "cell_type": "markdown",
   "metadata": {},
   "source": [
    "9) Take values of length and breadth of a rectangle from user and print if it is square or rectangle."
   ]
  },
  {
   "cell_type": "code",
   "execution_count": 66,
   "metadata": {},
   "outputs": [
    {
     "name": "stdin",
     "output_type": "stream",
     "text": [
      "Enter the length:  45\n",
      "Enter the breadth:  88\n"
     ]
    },
    {
     "name": "stdout",
     "output_type": "stream",
     "text": [
      "The shape is a rectangle.\n"
     ]
    }
   ],
   "source": [
    "#Type your code here \n",
    "# Ask user for length and breadth\n",
    "length = int(input(\"Enter the length: \"))\n",
    "breadth = int(input(\"Enter the breadth: \"))\n",
    "\n",
    "# Check if the shape is a square or rectangle\n",
    "if length == breadth:\n",
    "  print(\"The shape is a square.\")\n",
    "else:\n",
    "  print(\"The shape is a rectangle.\")\n"
   ]
  },
  {
   "cell_type": "markdown",
   "metadata": {},
   "source": [
    "10) Take two int values from user and print greatest among them."
   ]
  },
  {
   "cell_type": "code",
   "execution_count": 68,
   "metadata": {},
   "outputs": [
    {
     "name": "stdin",
     "output_type": "stream",
     "text": [
      "Enter first number:  45\n",
      "Enter second number:  4343\n"
     ]
    },
    {
     "name": "stdout",
     "output_type": "stream",
     "text": [
      "The greatest number is: 4343\n"
     ]
    }
   ],
   "source": [
    "# Type your code here\n",
    "# Ask user for two numbers\n",
    "num1 = int(input(\"Enter first number: \"))\n",
    "num2 = int(input(\"Enter second number: \"))\n",
    "\n",
    "# Check which number is greater\n",
    "if num1 > num2:\n",
    "  print(\"The greatest number is:\", num1)\n",
    "else:\n",
    "  print(\"The greatest number is:\", num2)\n",
    "\n"
   ]
  },
  {
   "cell_type": "markdown",
   "metadata": {},
   "source": [
    "11) A shop will give discount of 10% if the cost of purchased quantity is more than 1000.\n",
    "Ask user for quantity\n",
    "Suppose, one unit will cost 100.\n",
    "Judge and print total cost for user."
   ]
  },
  {
   "cell_type": "code",
   "execution_count": 72,
   "metadata": {},
   "outputs": [
    {
     "name": "stdin",
     "output_type": "stream",
     "text": [
      "Enter the quantity:  11\n"
     ]
    },
    {
     "name": "stdout",
     "output_type": "stream",
     "text": [
      "Total cost:  990.0\n"
     ]
    }
   ],
   "source": [
    "#Type your code here\n",
    "# Ask the user for the quantity\n",
    "quantity = int(input(\"Enter the quantity: \"))\n",
    "\n",
    "# Calculate the total cost\n",
    "total_cost = Quantity * 100\n",
    "\n",
    "# Check if the discount applies\n",
    "if total_cost > 1000:\n",
    "  discount = total_cost * 0.10\n",
    "  total_cost -= discount\n",
    "\n",
    "# Print total cost\n",
    "print(\"Total cost: \", total_cost)\n"
   ]
  },
  {
   "cell_type": "markdown",
   "metadata": {},
   "source": [
    "12) A school has following rules for grading system:\n",
    "\n",
    "a. Below 25 - F\n",
    "\n",
    "b. 25 to 45 - E\n",
    "\n",
    "c. 45 to 50 - D\n",
    "\n",
    "d. 50 to 60 - C\n",
    "\n",
    "e. 60 to 80 - B\n",
    "\n",
    "f. Above 80 - A\n",
    "\n",
    "Ask user to enter marks and print the corresponding grade."
   ]
  },
  {
   "cell_type": "code",
   "execution_count": 74,
   "metadata": {},
   "outputs": [
    {
     "name": "stdin",
     "output_type": "stream",
     "text": [
      "Enter your marks:  76.88\n"
     ]
    },
    {
     "name": "stdout",
     "output_type": "stream",
     "text": [
      "Your grade is: B\n"
     ]
    }
   ],
   "source": [
    "#Type your code here\n",
    "# Ask user for marks\n",
    "marks = float(input(\"Enter your marks: \"))\n",
    "\n",
    "# Check the grade based on the marks\n",
    "if marks < 25:\n",
    "  grade = \"F\"\n",
    "elif 25 <= marks <= 45:\n",
    "  grade = \"E\"\n",
    "elif 45 < marks <= 50:\n",
    "  grade = \"D\"\n",
    "elif 50 < marks <= 60:\n",
    "  grade = \"C\"\n",
    "elif 60 < marks <= 80:\n",
    "  grade = \"B\"\n",
    "else:\n",
    "  grade = \"A\"\n",
    "\n",
    "# Print the grade\n",
    "print(\"Your grade is:\", grade)\n"
   ]
  },
  {
   "cell_type": "markdown",
   "metadata": {},
   "source": [
    "14)A student will not be allowed to sit in exam if his/her attendence is less than 75%.\n",
    "\n",
    "Take following input from user\n",
    "\n",
    "- Number of classes held\n",
    "\n",
    "- Number of classes attended.\n",
    "\n",
    "And print\n",
    "\n",
    "- percentage of class attended\n",
    "\n",
    "- Is student is allowed to sit in exam or not.\n"
   ]
  },
  {
   "cell_type": "code",
   "execution_count": 76,
   "metadata": {},
   "outputs": [
    {
     "name": "stdin",
     "output_type": "stream",
     "text": [
      "Enter the number of classes held:  55\n",
      "Enter the number of classes attended:  34\n"
     ]
    },
    {
     "name": "stdout",
     "output_type": "stream",
     "text": [
      "Attendance percentage: 61.81818181818181\n",
      "Student is not allowed to sit in exam.\n"
     ]
    }
   ],
   "source": [
    "#Type your code here\n",
    "\n",
    "# Ask user for number of classes held and attended\n",
    "classes_held = int(input(\"Enter the number of classes held: \"))\n",
    "classes_attended = int(input(\"Enter the number of classes attended: \"))\n",
    "\n",
    "# Calculate attendance percentage\n",
    "attendance_percentage = (classes_attended / classes_held) * 100\n",
    "\n",
    "# Check if student is allowed to sit in exam\n",
    "if attendance_percentage >= 75:\n",
    "  print(\"Attendance percentage:\", attendance_percentage)\n",
    "  print(\"Student is allowed to sit in exam.\")\n",
    "else:\n",
    "  print(\"Attendance percentage:\", attendance_percentage)\n",
    "  print(\"Student is not allowed to sit in exam.\")\n",
    "\n"
   ]
  },
  {
   "cell_type": "markdown",
   "metadata": {},
   "source": [
    "15) Modify the above question to allow student to sit if he/she has medical cause. Ask user if he/she has medical cause or not ( 'Y' or 'N' ) and print accordingly."
   ]
  },
  {
   "cell_type": "code",
   "execution_count": 78,
   "metadata": {},
   "outputs": [
    {
     "name": "stdin",
     "output_type": "stream",
     "text": [
      "Enter the number of classes held:  22\n",
      "Enter the number of classes attended:  14\n",
      "Do you have a medical cause? (Y/N):  y\n"
     ]
    },
    {
     "name": "stdout",
     "output_type": "stream",
     "text": [
      "Attendance percentage: 63.63636363636363\n",
      "Student is allowed to sit in exam due to medical cause.\n"
     ]
    }
   ],
   "source": [
    "#Type your code here# Ask user for number of classes held and attended\n",
    "classes_held = int(input(\"Enter the number of classes held: \"))\n",
    "classes_attended = int(input(\"Enter the number of classes attended: \"))\n",
    "\n",
    "# Calculate attendance percentage\n",
    "attendance_percentage = (classes_attended / classes_held) * 100\n",
    "\n",
    "# Ask user if they have a medical cause\n",
    "medical_cause = input(\"Do you have a medical cause? (Y/N): \")\n",
    "\n",
    "# Check if student is allowed to sit in exam\n",
    "if attendance_percentage >= 75:\n",
    "  print(\"Attendance percentage:\", attendance_percentage)\n",
    "  print(\"Student is allowed to sit in exam.\")\n",
    "elif medical_cause.upper() == 'Y':\n",
    "  print(\"Attendance percentage:\", attendance_percentage)\n",
    "  print(\"Student is allowed to sit in exam due to medical cause.\")\n",
    "else:\n",
    "  print(\"Attendance percentage:\", attendance_percentage)\n",
    "  print(\"Student is not allowed to sit in exam.\")\n",
    "\n"
   ]
  },
  {
   "cell_type": "markdown",
   "metadata": {},
   "source": [
    "16) Write a program to check if a year is leap year or not.\n",
    "\n",
    "If a year is divisible by 4 then it is leap year but if the year is century year like 2000, 1900, 2100 then it must be divisible by 400."
   ]
  },
  {
   "cell_type": "code",
   "execution_count": 90,
   "metadata": {},
   "outputs": [
    {
     "name": "stdin",
     "output_type": "stream",
     "text": [
      "Enter a year:  1200\n"
     ]
    },
    {
     "name": "stdout",
     "output_type": "stream",
     "text": [
      "1200 is a leap year.\n"
     ]
    }
   ],
   "source": [
    "#Type your code here\n",
    "# Ask the user for a year\n",
    "year = int(input(\"Enter a year: \"))\n",
    "\n",
    "# Check if the year is a leap year\n",
    "if year % 4 == 0:\n",
    "  if year % 100 == 0:\n",
    "    if year % 400 == 0:\n",
    "      print(year, \"is a leap year.\")\n",
    "    else:\n",
    "      print(year, \"is not a leap year.\")\n",
    "  else:\n",
    "    print(year, \"is a leap year.\")\n",
    "else:\n",
    "  print(year, \"is not a leap year.\")\n",
    "\n"
   ]
  },
  {
   "cell_type": "markdown",
   "metadata": {},
   "source": [
    "17) Ask user to enter age, gender ( M or F ), marital status ( Y or N ) and then using following rules print their place of service.\n",
    "\n",
    "if employee is female, then she will work only in urban areas.\n",
    "\n",
    "if employee is a male and age is in between 20 to 40 then he may work in anywhere\n",
    "\n",
    "if employee is male and age is in between 40 t0 60 then he will work in urban areas only.\n",
    "\n",
    "And any other input of age should print \"ERROR\""
   ]
  },
  {
   "cell_type": "code",
   "execution_count": 94,
   "metadata": {},
   "outputs": [
    {
     "name": "stdin",
     "output_type": "stream",
     "text": [
      "Enter your age:  23\n",
      "Enter your gender (M or F):  m\n",
      "Enter your marital status (Y or N):  y\n"
     ]
    },
    {
     "name": "stdout",
     "output_type": "stream",
     "text": [
      "Your place of service is: Anywhere\n"
     ]
    }
   ],
   "source": [
    "#Type your code here\n",
    "# Ask user for age, gender, and marital status\n",
    "age = int(input(\"Enter your age: \"))\n",
    "gender = input(\"Enter your gender (M or F): \")\n",
    "marital_status = input(\"Enter your marital status (Y or N): \")\n",
    "\n",
    "# Check the place of service based on the rules\n",
    "if gender.upper() == 'F':\n",
    "  place_of_service = \"Urban\"\n",
    "elif gender.upper() == 'M':\n",
    "  if age >= 20 and age <= 40:\n",
    "    place_of_service = \"Anywhere\"\n",
    "  elif age >= 40 and age <= 60:\n",
    "    place_of_service = \"Urban\"\n",
    "  else:\n",
    "    place_of_service = \"ERROR\"\n",
    "else:\n",
    "  place_of_service = \"ERROR\"\n",
    "\n",
    "# Print the place of service\n",
    "print(\"Your place of service is:\", place_of_service)\n",
    "\n"
   ]
  },
  {
   "cell_type": "markdown",
   "metadata": {},
   "source": [
    "6) Write a program to calculate the electricity bill (accept number of unit from user) according to the following criteria :\n",
    "     Unit                                                     Price  \n",
    "uptp 100 units                                             no charge\n",
    "Next 200 units                                              Rs 5 per unit\n",
    "After 200 units                                             Rs 10 per unit\n",
    "(For example if input unit is 350 than total bill amount is Rs.3500\n",
    "(For example if input unit is 97 than total bill amount is Rs.0\n",
    "(For example if input unit is 150 than total bill amount is Rs.750"
   ]
  },
  {
   "cell_type": "code",
   "execution_count": 143,
   "metadata": {},
   "outputs": [
    {
     "name": "stdin",
     "output_type": "stream",
     "text": [
      "Enter the number of units:  100\n"
     ]
    },
    {
     "name": "stdout",
     "output_type": "stream",
     "text": [
      "Your electricity bill is Rs. 0\n"
     ]
    }
   ],
   "source": [
    "#Type your code here\n",
    "# Ask user for number of units\n",
    "units = int(input(\"Enter the number of units: \"))\n",
    "\n",
    "# Calculate the bill amount\n",
    "if units <= 100:\n",
    "  bill_amount = 0\n",
    "elif units <= 200:\n",
    "  bill_amount = 5 * units\n",
    "else :\n",
    "  bill_amount = 10 * units\n",
    " \n",
    "\n",
    "# Print the bill amount\n",
    "print(\"Your electricity bill is Rs.\", bill_amount)\n"
   ]
  },
  {
   "cell_type": "markdown",
   "metadata": {},
   "source": [
    "13) Take input of age of 3 people by user and determine oldest and youngest among them."
   ]
  },
  {
   "cell_type": "code",
   "execution_count": 193,
   "metadata": {},
   "outputs": [
    {
     "name": "stdin",
     "output_type": "stream",
     "text": [
      "Enter age of first person:  99\n",
      "Enter age of second person:  66\n",
      "Enter age of third person:  87\n"
     ]
    },
    {
     "name": "stdout",
     "output_type": "stream",
     "text": [
      "The oldest person is: 99\n",
      "the youngest person is: 66\n"
     ]
    }
   ],
   "source": [
    "#Type your code here\n",
    "\n",
    "# Ask user for ages of three people\n",
    "age1 = int(input(\"Enter age of first person: \"))\n",
    "age2 = int(input(\"Enter age of second person: \"))\n",
    "age3 = int(input(\"Enter age of third person: \"))\n",
    "\n",
    "# Determine oldest and youngest\n",
    "if age1 > age2 > age3 :\n",
    "  print(\"The oldest person is:\", age1)\n",
    "  print(\"the youngest person is:\", age3)\n",
    "elif age1 > age3 > age2:\n",
    "  print(\"The oldest person is:\", age1)\n",
    "  print(\"the youngest person is:\", age2)\n",
    "elif age2 > age3 > age1 :\n",
    "  print(\"The oldest person is:\", age2)\n",
    "  print(\"the youngest person is:\", age1)\n",
    "elif age2 > age1 > age3 :\n",
    "  print(\"The oldest person is:\", age2)\n",
    "  print(\"the youngest person is:\", age3)\n",
    "elif age3 > age1 > age2 :\n",
    "  print(\"The oldest person is:\", age3)\n",
    "  print(\"the youngest person is:\", age2)\n",
    "elif age3 > age2 > age1 :\n",
    "  print(\"The oldest person is:\", age3)\n",
    "  print(\"the youngest person is:\", age1)    \n",
    "else:\n",
    "  print(\"All ages are equal\")\n"
   ]
  }
 ],
 "metadata": {
  "kernelspec": {
   "display_name": "Python 3 (ipykernel)",
   "language": "python",
   "name": "python3"
  },
  "language_info": {
   "codemirror_mode": {
    "name": "ipython",
    "version": 3
   },
   "file_extension": ".py",
   "mimetype": "text/x-python",
   "name": "python",
   "nbconvert_exporter": "python",
   "pygments_lexer": "ipython3",
   "version": "3.11.7"
  }
 },
 "nbformat": 4,
 "nbformat_minor": 4
}
